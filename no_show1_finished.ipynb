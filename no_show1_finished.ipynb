{
 "cells": [
  {
   "cell_type": "markdown",
   "id": "3ae9a1fe",
   "metadata": {},
   "source": [
    "# Project: Investigate a Dataset (No_show appointements dataset)"
   ]
  },
  {
   "cell_type": "markdown",
   "id": "4de3dd98",
   "metadata": {},
   "source": [
    "\n",
    "## Table of Contents\n",
    "<ul>\n",
    "<li><a href=\"#intro\">Introduction</a></li>\n",
    "<li><a href=\"#wrangling\">Data Wrangling</a></li>\n",
    "<li><a href=\"#eda\">Exploratory Data Analysis</a></li>\n",
    "<li><a href=\"#conclusions\">Conclusions</a></li>\n",
    "</ul>"
   ]
  },
  {
   "cell_type": "markdown",
   "id": "08088294",
   "metadata": {},
   "source": [
    "<a id='intro'></a>\n",
    "## Introduction\n",
    "\n",
    "> This dataset collects information\n",
    "from about 100k medical appointments in\n",
    "Brazil and is focused on the question\n",
    "of whether or not patients show up\n",
    "for their appointment. A number of\n",
    "characteristics about the patient are\n",
    "included in each row.\n",
    "\n",
    "> \n",
    "> **Questions to be investigated in this analysis are:**\n",
    ">\n",
    "> 1- Which variables in the dataset are related to the non-showing up of patients in their appointments?\n",
    ">\n",
    "> 2- What recommendations could encourage patients to show up in their medical appointment?\n",
    ">\n",
    "> 3- Is it possible to predict if the patient would appear in his appointment?\n",
    ">\n",
    "> 4- Are the data collected are enough to achieve the main purpose of that study? what are the limitations of that dataset?\n",
    ">\n"
   ]
  },
  {
   "cell_type": "code",
   "execution_count": 1,
   "id": "22bd2583",
   "metadata": {},
   "outputs": [],
   "source": [
    "import pandas as pd\n",
    "import numpy as np\n",
    "import datetime\n",
    "import matplotlib.pyplot as plt\n",
    "import seaborn as sns\n",
    "%matplotlib inline\n",
    "df = pd.read_csv('noshow.csv')"
   ]
  },
  {
   "cell_type": "markdown",
   "id": "82b1aac9",
   "metadata": {},
   "source": [
    "<a id='wrangling'></a>\n",
    "## Data Wrangling\n",
    "\n",
    "### General Properties"
   ]
  },
  {
   "cell_type": "code",
   "execution_count": 2,
   "id": "f02d50d8",
   "metadata": {},
   "outputs": [
    {
     "data": {
      "text/html": [
       "<div>\n",
       "<style scoped>\n",
       "    .dataframe tbody tr th:only-of-type {\n",
       "        vertical-align: middle;\n",
       "    }\n",
       "\n",
       "    .dataframe tbody tr th {\n",
       "        vertical-align: top;\n",
       "    }\n",
       "\n",
       "    .dataframe thead th {\n",
       "        text-align: right;\n",
       "    }\n",
       "</style>\n",
       "<table border=\"1\" class=\"dataframe\">\n",
       "  <thead>\n",
       "    <tr style=\"text-align: right;\">\n",
       "      <th></th>\n",
       "      <th>PatientId</th>\n",
       "      <th>AppointmentID</th>\n",
       "      <th>Gender</th>\n",
       "      <th>ScheduledDay</th>\n",
       "      <th>AppointmentDay</th>\n",
       "      <th>Age</th>\n",
       "      <th>Neighbourhood</th>\n",
       "      <th>Scholarship</th>\n",
       "      <th>Hipertension</th>\n",
       "      <th>Diabetes</th>\n",
       "      <th>Alcoholism</th>\n",
       "      <th>Handcap</th>\n",
       "      <th>SMS_received</th>\n",
       "      <th>No-show</th>\n",
       "    </tr>\n",
       "  </thead>\n",
       "  <tbody>\n",
       "    <tr>\n",
       "      <th>0</th>\n",
       "      <td>2.987250e+13</td>\n",
       "      <td>5642903</td>\n",
       "      <td>F</td>\n",
       "      <td>2016-04-29T18:38:08Z</td>\n",
       "      <td>2016-04-29T00:00:00Z</td>\n",
       "      <td>62</td>\n",
       "      <td>JARDIM DA PENHA</td>\n",
       "      <td>0</td>\n",
       "      <td>1</td>\n",
       "      <td>0</td>\n",
       "      <td>0</td>\n",
       "      <td>0</td>\n",
       "      <td>0</td>\n",
       "      <td>No</td>\n",
       "    </tr>\n",
       "    <tr>\n",
       "      <th>1</th>\n",
       "      <td>5.589978e+14</td>\n",
       "      <td>5642503</td>\n",
       "      <td>M</td>\n",
       "      <td>2016-04-29T16:08:27Z</td>\n",
       "      <td>2016-04-29T00:00:00Z</td>\n",
       "      <td>56</td>\n",
       "      <td>JARDIM DA PENHA</td>\n",
       "      <td>0</td>\n",
       "      <td>0</td>\n",
       "      <td>0</td>\n",
       "      <td>0</td>\n",
       "      <td>0</td>\n",
       "      <td>0</td>\n",
       "      <td>No</td>\n",
       "    </tr>\n",
       "    <tr>\n",
       "      <th>2</th>\n",
       "      <td>4.262962e+12</td>\n",
       "      <td>5642549</td>\n",
       "      <td>F</td>\n",
       "      <td>2016-04-29T16:19:04Z</td>\n",
       "      <td>2016-04-29T00:00:00Z</td>\n",
       "      <td>62</td>\n",
       "      <td>MATA DA PRAIA</td>\n",
       "      <td>0</td>\n",
       "      <td>0</td>\n",
       "      <td>0</td>\n",
       "      <td>0</td>\n",
       "      <td>0</td>\n",
       "      <td>0</td>\n",
       "      <td>No</td>\n",
       "    </tr>\n",
       "    <tr>\n",
       "      <th>3</th>\n",
       "      <td>8.679512e+11</td>\n",
       "      <td>5642828</td>\n",
       "      <td>F</td>\n",
       "      <td>2016-04-29T17:29:31Z</td>\n",
       "      <td>2016-04-29T00:00:00Z</td>\n",
       "      <td>8</td>\n",
       "      <td>PONTAL DE CAMBURI</td>\n",
       "      <td>0</td>\n",
       "      <td>0</td>\n",
       "      <td>0</td>\n",
       "      <td>0</td>\n",
       "      <td>0</td>\n",
       "      <td>0</td>\n",
       "      <td>No</td>\n",
       "    </tr>\n",
       "    <tr>\n",
       "      <th>4</th>\n",
       "      <td>8.841186e+12</td>\n",
       "      <td>5642494</td>\n",
       "      <td>F</td>\n",
       "      <td>2016-04-29T16:07:23Z</td>\n",
       "      <td>2016-04-29T00:00:00Z</td>\n",
       "      <td>56</td>\n",
       "      <td>JARDIM DA PENHA</td>\n",
       "      <td>0</td>\n",
       "      <td>1</td>\n",
       "      <td>1</td>\n",
       "      <td>0</td>\n",
       "      <td>0</td>\n",
       "      <td>0</td>\n",
       "      <td>No</td>\n",
       "    </tr>\n",
       "  </tbody>\n",
       "</table>\n",
       "</div>"
      ],
      "text/plain": [
       "      PatientId  AppointmentID Gender          ScheduledDay  \\\n",
       "0  2.987250e+13        5642903      F  2016-04-29T18:38:08Z   \n",
       "1  5.589978e+14        5642503      M  2016-04-29T16:08:27Z   \n",
       "2  4.262962e+12        5642549      F  2016-04-29T16:19:04Z   \n",
       "3  8.679512e+11        5642828      F  2016-04-29T17:29:31Z   \n",
       "4  8.841186e+12        5642494      F  2016-04-29T16:07:23Z   \n",
       "\n",
       "         AppointmentDay  Age      Neighbourhood  Scholarship  Hipertension  \\\n",
       "0  2016-04-29T00:00:00Z   62    JARDIM DA PENHA            0             1   \n",
       "1  2016-04-29T00:00:00Z   56    JARDIM DA PENHA            0             0   \n",
       "2  2016-04-29T00:00:00Z   62      MATA DA PRAIA            0             0   \n",
       "3  2016-04-29T00:00:00Z    8  PONTAL DE CAMBURI            0             0   \n",
       "4  2016-04-29T00:00:00Z   56    JARDIM DA PENHA            0             1   \n",
       "\n",
       "   Diabetes  Alcoholism  Handcap  SMS_received No-show  \n",
       "0         0           0        0             0      No  \n",
       "1         0           0        0             0      No  \n",
       "2         0           0        0             0      No  \n",
       "3         0           0        0             0      No  \n",
       "4         1           0        0             0      No  "
      ]
     },
     "execution_count": 2,
     "metadata": {},
     "output_type": "execute_result"
    }
   ],
   "source": [
    "df.head()"
   ]
  },
  {
   "cell_type": "code",
   "execution_count": 3,
   "id": "c1bc9271",
   "metadata": {},
   "outputs": [
    {
     "name": "stdout",
     "output_type": "stream",
     "text": [
      "<class 'pandas.core.frame.DataFrame'>\n",
      "RangeIndex: 110527 entries, 0 to 110526\n",
      "Data columns (total 14 columns):\n",
      " #   Column          Non-Null Count   Dtype  \n",
      "---  ------          --------------   -----  \n",
      " 0   PatientId       110527 non-null  float64\n",
      " 1   AppointmentID   110527 non-null  int64  \n",
      " 2   Gender          110527 non-null  object \n",
      " 3   ScheduledDay    110527 non-null  object \n",
      " 4   AppointmentDay  110527 non-null  object \n",
      " 5   Age             110527 non-null  int64  \n",
      " 6   Neighbourhood   110527 non-null  object \n",
      " 7   Scholarship     110527 non-null  int64  \n",
      " 8   Hipertension    110527 non-null  int64  \n",
      " 9   Diabetes        110527 non-null  int64  \n",
      " 10  Alcoholism      110527 non-null  int64  \n",
      " 11  Handcap         110527 non-null  int64  \n",
      " 12  SMS_received    110527 non-null  int64  \n",
      " 13  No-show         110527 non-null  object \n",
      "dtypes: float64(1), int64(8), object(5)\n",
      "memory usage: 11.8+ MB\n"
     ]
    }
   ],
   "source": [
    "df.info()"
   ]
  },
  {
   "cell_type": "markdown",
   "id": "c799105f",
   "metadata": {},
   "source": [
    "### No missing data needs to be handeled"
   ]
  },
  {
   "cell_type": "code",
   "execution_count": 4,
   "id": "c06d644c",
   "metadata": {},
   "outputs": [
    {
     "data": {
      "text/plain": [
       "0"
      ]
     },
     "execution_count": 4,
     "metadata": {},
     "output_type": "execute_result"
    }
   ],
   "source": [
    "df.duplicated().sum()"
   ]
  },
  {
   "cell_type": "markdown",
   "id": "16da4b24",
   "metadata": {},
   "source": [
    "### No duplicated rows need tobe removed"
   ]
  },
  {
   "cell_type": "code",
   "execution_count": null,
   "id": "b0013395",
   "metadata": {},
   "outputs": [],
   "source": []
  },
  {
   "cell_type": "markdown",
   "id": "664abd9f",
   "metadata": {},
   "source": [
    "\n",
    "### Data Cleaning "
   ]
  },
  {
   "cell_type": "markdown",
   "id": "e83d9ff2",
   "metadata": {},
   "source": [
    "### Now we want to change the last column name to be more expressive"
   ]
  },
  {
   "cell_type": "code",
   "execution_count": 5,
   "id": "c483a946",
   "metadata": {},
   "outputs": [
    {
     "data": {
      "text/html": [
       "<div>\n",
       "<style scoped>\n",
       "    .dataframe tbody tr th:only-of-type {\n",
       "        vertical-align: middle;\n",
       "    }\n",
       "\n",
       "    .dataframe tbody tr th {\n",
       "        vertical-align: top;\n",
       "    }\n",
       "\n",
       "    .dataframe thead th {\n",
       "        text-align: right;\n",
       "    }\n",
       "</style>\n",
       "<table border=\"1\" class=\"dataframe\">\n",
       "  <thead>\n",
       "    <tr style=\"text-align: right;\">\n",
       "      <th></th>\n",
       "      <th>PatientId</th>\n",
       "      <th>AppointmentID</th>\n",
       "      <th>Gender</th>\n",
       "      <th>ScheduledDay</th>\n",
       "      <th>AppointmentDay</th>\n",
       "      <th>Age</th>\n",
       "      <th>Neighbourhood</th>\n",
       "      <th>Scholarship</th>\n",
       "      <th>Hipertension</th>\n",
       "      <th>Diabetes</th>\n",
       "      <th>Alcoholism</th>\n",
       "      <th>Handcap</th>\n",
       "      <th>SMS_received</th>\n",
       "      <th>showing</th>\n",
       "    </tr>\n",
       "  </thead>\n",
       "  <tbody>\n",
       "    <tr>\n",
       "      <th>0</th>\n",
       "      <td>2.987250e+13</td>\n",
       "      <td>5642903</td>\n",
       "      <td>F</td>\n",
       "      <td>2016-04-29T18:38:08Z</td>\n",
       "      <td>2016-04-29T00:00:00Z</td>\n",
       "      <td>62</td>\n",
       "      <td>JARDIM DA PENHA</td>\n",
       "      <td>0</td>\n",
       "      <td>1</td>\n",
       "      <td>0</td>\n",
       "      <td>0</td>\n",
       "      <td>0</td>\n",
       "      <td>0</td>\n",
       "      <td>No</td>\n",
       "    </tr>\n",
       "  </tbody>\n",
       "</table>\n",
       "</div>"
      ],
      "text/plain": [
       "      PatientId  AppointmentID Gender          ScheduledDay  \\\n",
       "0  2.987250e+13        5642903      F  2016-04-29T18:38:08Z   \n",
       "\n",
       "         AppointmentDay  Age    Neighbourhood  Scholarship  Hipertension  \\\n",
       "0  2016-04-29T00:00:00Z   62  JARDIM DA PENHA            0             1   \n",
       "\n",
       "   Diabetes  Alcoholism  Handcap  SMS_received showing  \n",
       "0         0           0        0             0      No  "
      ]
     },
     "execution_count": 5,
     "metadata": {},
     "output_type": "execute_result"
    }
   ],
   "source": [
    "df.rename(columns =  {'No-show':'showing'},inplace = True)\n",
    "df.head(1)"
   ]
  },
  {
   "cell_type": "code",
   "execution_count": 6,
   "id": "b5b5a9f5",
   "metadata": {},
   "outputs": [
    {
     "data": {
      "text/plain": [
       "No     88208\n",
       "Yes    22319\n",
       "Name: showing, dtype: int64"
      ]
     },
     "execution_count": 6,
     "metadata": {},
     "output_type": "execute_result"
    }
   ],
   "source": [
    "df.showing.value_counts()"
   ]
  },
  {
   "cell_type": "markdown",
   "id": "0e301cc9",
   "metadata": {},
   "source": [
    "## we want to switch 'Yes' and 'No' "
   ]
  },
  {
   "cell_type": "code",
   "execution_count": 7,
   "id": "5dcd1644",
   "metadata": {},
   "outputs": [],
   "source": [
    "df['showing'] = df['showing'].replace(('No','Yes'),('yes','no'))"
   ]
  },
  {
   "cell_type": "markdown",
   "id": "93e937af",
   "metadata": {},
   "source": [
    "## Now let's check that switch succeeded"
   ]
  },
  {
   "cell_type": "code",
   "execution_count": 8,
   "id": "ac06bf7e",
   "metadata": {},
   "outputs": [
    {
     "data": {
      "text/plain": [
       "yes    88208\n",
       "no     22319\n",
       "Name: showing, dtype: int64"
      ]
     },
     "execution_count": 8,
     "metadata": {},
     "output_type": "execute_result"
    }
   ],
   "source": [
    "df['showing'].value_counts()"
   ]
  },
  {
   "cell_type": "markdown",
   "id": "66aeb85e",
   "metadata": {},
   "source": [
    "## Now let's remove unneccessary columns"
   ]
  },
  {
   "cell_type": "code",
   "execution_count": 9,
   "id": "6d1a6ffb",
   "metadata": {},
   "outputs": [],
   "source": [
    "df.drop(['PatientId', 'AppointmentID'], axis = 1, inplace = True)"
   ]
  },
  {
   "cell_type": "code",
   "execution_count": 10,
   "id": "29fc3f19",
   "metadata": {},
   "outputs": [
    {
     "data": {
      "text/html": [
       "<div>\n",
       "<style scoped>\n",
       "    .dataframe tbody tr th:only-of-type {\n",
       "        vertical-align: middle;\n",
       "    }\n",
       "\n",
       "    .dataframe tbody tr th {\n",
       "        vertical-align: top;\n",
       "    }\n",
       "\n",
       "    .dataframe thead th {\n",
       "        text-align: right;\n",
       "    }\n",
       "</style>\n",
       "<table border=\"1\" class=\"dataframe\">\n",
       "  <thead>\n",
       "    <tr style=\"text-align: right;\">\n",
       "      <th></th>\n",
       "      <th>Gender</th>\n",
       "      <th>ScheduledDay</th>\n",
       "      <th>AppointmentDay</th>\n",
       "      <th>Age</th>\n",
       "      <th>Neighbourhood</th>\n",
       "      <th>Scholarship</th>\n",
       "      <th>Hipertension</th>\n",
       "      <th>Diabetes</th>\n",
       "      <th>Alcoholism</th>\n",
       "      <th>Handcap</th>\n",
       "      <th>SMS_received</th>\n",
       "      <th>showing</th>\n",
       "    </tr>\n",
       "  </thead>\n",
       "  <tbody>\n",
       "    <tr>\n",
       "      <th>0</th>\n",
       "      <td>F</td>\n",
       "      <td>2016-04-29T18:38:08Z</td>\n",
       "      <td>2016-04-29T00:00:00Z</td>\n",
       "      <td>62</td>\n",
       "      <td>JARDIM DA PENHA</td>\n",
       "      <td>0</td>\n",
       "      <td>1</td>\n",
       "      <td>0</td>\n",
       "      <td>0</td>\n",
       "      <td>0</td>\n",
       "      <td>0</td>\n",
       "      <td>yes</td>\n",
       "    </tr>\n",
       "  </tbody>\n",
       "</table>\n",
       "</div>"
      ],
      "text/plain": [
       "  Gender          ScheduledDay        AppointmentDay  Age    Neighbourhood  \\\n",
       "0      F  2016-04-29T18:38:08Z  2016-04-29T00:00:00Z   62  JARDIM DA PENHA   \n",
       "\n",
       "   Scholarship  Hipertension  Diabetes  Alcoholism  Handcap  SMS_received  \\\n",
       "0            0             1         0           0        0             0   \n",
       "\n",
       "  showing  \n",
       "0     yes  "
      ]
     },
     "execution_count": 10,
     "metadata": {},
     "output_type": "execute_result"
    }
   ],
   "source": [
    "df.head(1)"
   ]
  },
  {
   "cell_type": "markdown",
   "id": "32419d6f",
   "metadata": {},
   "source": [
    "## We need to add a new  column to illustrate the difference between AppointmentDay and ScheduledDay"
   ]
  },
  {
   "cell_type": "code",
   "execution_count": 11,
   "id": "01cc7cc1",
   "metadata": {
    "scrolled": true
   },
   "outputs": [
    {
     "data": {
      "text/plain": [
       "Gender            object\n",
       "ScheduledDay      object\n",
       "AppointmentDay    object\n",
       "Age                int64\n",
       "Neighbourhood     object\n",
       "Scholarship        int64\n",
       "Hipertension       int64\n",
       "Diabetes           int64\n",
       "Alcoholism         int64\n",
       "Handcap            int64\n",
       "SMS_received       int64\n",
       "showing           object\n",
       "dtype: object"
      ]
     },
     "execution_count": 11,
     "metadata": {},
     "output_type": "execute_result"
    }
   ],
   "source": [
    "df.dtypes"
   ]
  },
  {
   "cell_type": "markdown",
   "id": "a2906700",
   "metadata": {},
   "source": [
    "## But it seemes that we can't carry out this, as 'ScheduledDay' & 'AppointmentDay dtypes' are objects, we need to convert them into datetime64"
   ]
  },
  {
   "cell_type": "code",
   "execution_count": 12,
   "id": "85c217ed",
   "metadata": {},
   "outputs": [],
   "source": [
    "df[['ScheduledDay','AppointmentDay']] = df[['ScheduledDay','AppointmentDay']].apply(pd.to_datetime)"
   ]
  },
  {
   "cell_type": "code",
   "execution_count": 13,
   "id": "72492b16",
   "metadata": {
    "scrolled": true
   },
   "outputs": [
    {
     "data": {
      "text/plain": [
       "Gender                         object\n",
       "ScheduledDay      datetime64[ns, UTC]\n",
       "AppointmentDay    datetime64[ns, UTC]\n",
       "Age                             int64\n",
       "Neighbourhood                  object\n",
       "Scholarship                     int64\n",
       "Hipertension                    int64\n",
       "Diabetes                        int64\n",
       "Alcoholism                      int64\n",
       "Handcap                         int64\n",
       "SMS_received                    int64\n",
       "showing                        object\n",
       "dtype: object"
      ]
     },
     "execution_count": 13,
     "metadata": {},
     "output_type": "execute_result"
    }
   ],
   "source": [
    "df.dtypes"
   ]
  },
  {
   "cell_type": "markdown",
   "id": "ab06853d",
   "metadata": {},
   "source": [
    "## Now we will extract dates from 'AppointmentDay' & 'ScheduledDay' columns into  new columns"
   ]
  },
  {
   "cell_type": "code",
   "execution_count": 14,
   "id": "79247003",
   "metadata": {},
   "outputs": [],
   "source": [
    "df['scheduled_date'] = df['ScheduledDay'].dt.date"
   ]
  },
  {
   "cell_type": "code",
   "execution_count": 15,
   "id": "05316f0e",
   "metadata": {},
   "outputs": [],
   "source": [
    "df['appointment_date'] = df['AppointmentDay'].dt.date"
   ]
  },
  {
   "cell_type": "code",
   "execution_count": 16,
   "id": "d63ae894",
   "metadata": {},
   "outputs": [
    {
     "data": {
      "text/html": [
       "<div>\n",
       "<style scoped>\n",
       "    .dataframe tbody tr th:only-of-type {\n",
       "        vertical-align: middle;\n",
       "    }\n",
       "\n",
       "    .dataframe tbody tr th {\n",
       "        vertical-align: top;\n",
       "    }\n",
       "\n",
       "    .dataframe thead th {\n",
       "        text-align: right;\n",
       "    }\n",
       "</style>\n",
       "<table border=\"1\" class=\"dataframe\">\n",
       "  <thead>\n",
       "    <tr style=\"text-align: right;\">\n",
       "      <th></th>\n",
       "      <th>Gender</th>\n",
       "      <th>ScheduledDay</th>\n",
       "      <th>AppointmentDay</th>\n",
       "      <th>Age</th>\n",
       "      <th>Neighbourhood</th>\n",
       "      <th>Scholarship</th>\n",
       "      <th>Hipertension</th>\n",
       "      <th>Diabetes</th>\n",
       "      <th>Alcoholism</th>\n",
       "      <th>Handcap</th>\n",
       "      <th>SMS_received</th>\n",
       "      <th>showing</th>\n",
       "      <th>scheduled_date</th>\n",
       "      <th>appointment_date</th>\n",
       "    </tr>\n",
       "  </thead>\n",
       "  <tbody>\n",
       "    <tr>\n",
       "      <th>0</th>\n",
       "      <td>F</td>\n",
       "      <td>2016-04-29 18:38:08+00:00</td>\n",
       "      <td>2016-04-29 00:00:00+00:00</td>\n",
       "      <td>62</td>\n",
       "      <td>JARDIM DA PENHA</td>\n",
       "      <td>0</td>\n",
       "      <td>1</td>\n",
       "      <td>0</td>\n",
       "      <td>0</td>\n",
       "      <td>0</td>\n",
       "      <td>0</td>\n",
       "      <td>yes</td>\n",
       "      <td>2016-04-29</td>\n",
       "      <td>2016-04-29</td>\n",
       "    </tr>\n",
       "  </tbody>\n",
       "</table>\n",
       "</div>"
      ],
      "text/plain": [
       "  Gender              ScheduledDay            AppointmentDay  Age  \\\n",
       "0      F 2016-04-29 18:38:08+00:00 2016-04-29 00:00:00+00:00   62   \n",
       "\n",
       "     Neighbourhood  Scholarship  Hipertension  Diabetes  Alcoholism  Handcap  \\\n",
       "0  JARDIM DA PENHA            0             1         0           0        0   \n",
       "\n",
       "   SMS_received showing scheduled_date appointment_date  \n",
       "0             0     yes     2016-04-29       2016-04-29  "
      ]
     },
     "execution_count": 16,
     "metadata": {},
     "output_type": "execute_result"
    }
   ],
   "source": [
    "df.head(1)"
   ]
  },
  {
   "cell_type": "markdown",
   "id": "607aca01",
   "metadata": {},
   "source": [
    "## Now we are able to calculate difference between appointment date & scheduled date"
   ]
  },
  {
   "cell_type": "code",
   "execution_count": 17,
   "id": "d8d64117",
   "metadata": {},
   "outputs": [],
   "source": [
    "df['waiting_time'] = df['appointment_date'] - df['scheduled_date']"
   ]
  },
  {
   "cell_type": "code",
   "execution_count": 18,
   "id": "c8d9fd9d",
   "metadata": {},
   "outputs": [
    {
     "data": {
      "text/html": [
       "<div>\n",
       "<style scoped>\n",
       "    .dataframe tbody tr th:only-of-type {\n",
       "        vertical-align: middle;\n",
       "    }\n",
       "\n",
       "    .dataframe tbody tr th {\n",
       "        vertical-align: top;\n",
       "    }\n",
       "\n",
       "    .dataframe thead th {\n",
       "        text-align: right;\n",
       "    }\n",
       "</style>\n",
       "<table border=\"1\" class=\"dataframe\">\n",
       "  <thead>\n",
       "    <tr style=\"text-align: right;\">\n",
       "      <th></th>\n",
       "      <th>Gender</th>\n",
       "      <th>ScheduledDay</th>\n",
       "      <th>AppointmentDay</th>\n",
       "      <th>Age</th>\n",
       "      <th>Neighbourhood</th>\n",
       "      <th>Scholarship</th>\n",
       "      <th>Hipertension</th>\n",
       "      <th>Diabetes</th>\n",
       "      <th>Alcoholism</th>\n",
       "      <th>Handcap</th>\n",
       "      <th>SMS_received</th>\n",
       "      <th>showing</th>\n",
       "      <th>scheduled_date</th>\n",
       "      <th>appointment_date</th>\n",
       "      <th>waiting_time</th>\n",
       "    </tr>\n",
       "  </thead>\n",
       "  <tbody>\n",
       "    <tr>\n",
       "      <th>0</th>\n",
       "      <td>F</td>\n",
       "      <td>2016-04-29 18:38:08+00:00</td>\n",
       "      <td>2016-04-29 00:00:00+00:00</td>\n",
       "      <td>62</td>\n",
       "      <td>JARDIM DA PENHA</td>\n",
       "      <td>0</td>\n",
       "      <td>1</td>\n",
       "      <td>0</td>\n",
       "      <td>0</td>\n",
       "      <td>0</td>\n",
       "      <td>0</td>\n",
       "      <td>yes</td>\n",
       "      <td>2016-04-29</td>\n",
       "      <td>2016-04-29</td>\n",
       "      <td>0 days</td>\n",
       "    </tr>\n",
       "  </tbody>\n",
       "</table>\n",
       "</div>"
      ],
      "text/plain": [
       "  Gender              ScheduledDay            AppointmentDay  Age  \\\n",
       "0      F 2016-04-29 18:38:08+00:00 2016-04-29 00:00:00+00:00   62   \n",
       "\n",
       "     Neighbourhood  Scholarship  Hipertension  Diabetes  Alcoholism  Handcap  \\\n",
       "0  JARDIM DA PENHA            0             1         0           0        0   \n",
       "\n",
       "   SMS_received showing scheduled_date appointment_date waiting_time  \n",
       "0             0     yes     2016-04-29       2016-04-29       0 days  "
      ]
     },
     "execution_count": 18,
     "metadata": {},
     "output_type": "execute_result"
    }
   ],
   "source": [
    "df.head(1)"
   ]
  },
  {
   "cell_type": "code",
   "execution_count": 19,
   "id": "66bc2762",
   "metadata": {},
   "outputs": [
    {
     "data": {
      "text/plain": [
       "dtype('<m8[ns]')"
      ]
     },
     "execution_count": 19,
     "metadata": {},
     "output_type": "execute_result"
    }
   ],
   "source": [
    "df.waiting_time.dtypes"
   ]
  },
  {
   "cell_type": "code",
   "execution_count": 20,
   "id": "53a6237f",
   "metadata": {},
   "outputs": [],
   "source": [
    "df['waiting_time'] = df['waiting_time'].dt.days"
   ]
  },
  {
   "cell_type": "code",
   "execution_count": 21,
   "id": "73816711",
   "metadata": {},
   "outputs": [
    {
     "data": {
      "text/plain": [
       "dtype('int64')"
      ]
     },
     "execution_count": 21,
     "metadata": {},
     "output_type": "execute_result"
    }
   ],
   "source": [
    "df.waiting_time.dtypes"
   ]
  },
  {
   "cell_type": "markdown",
   "id": "d4504f87",
   "metadata": {},
   "source": [
    "## Some columns now are not neccessary, we're going to drop them"
   ]
  },
  {
   "cell_type": "code",
   "execution_count": 22,
   "id": "51ea726b",
   "metadata": {},
   "outputs": [],
   "source": [
    "df.drop(['ScheduledDay', 'AppointmentDay'], axis = 1, inplace = True)"
   ]
  },
  {
   "cell_type": "code",
   "execution_count": 23,
   "id": "3722542f",
   "metadata": {},
   "outputs": [
    {
     "data": {
      "text/html": [
       "<div>\n",
       "<style scoped>\n",
       "    .dataframe tbody tr th:only-of-type {\n",
       "        vertical-align: middle;\n",
       "    }\n",
       "\n",
       "    .dataframe tbody tr th {\n",
       "        vertical-align: top;\n",
       "    }\n",
       "\n",
       "    .dataframe thead th {\n",
       "        text-align: right;\n",
       "    }\n",
       "</style>\n",
       "<table border=\"1\" class=\"dataframe\">\n",
       "  <thead>\n",
       "    <tr style=\"text-align: right;\">\n",
       "      <th></th>\n",
       "      <th>Gender</th>\n",
       "      <th>Age</th>\n",
       "      <th>Neighbourhood</th>\n",
       "      <th>Scholarship</th>\n",
       "      <th>Hipertension</th>\n",
       "      <th>Diabetes</th>\n",
       "      <th>Alcoholism</th>\n",
       "      <th>Handcap</th>\n",
       "      <th>SMS_received</th>\n",
       "      <th>showing</th>\n",
       "      <th>scheduled_date</th>\n",
       "      <th>appointment_date</th>\n",
       "      <th>waiting_time</th>\n",
       "    </tr>\n",
       "  </thead>\n",
       "  <tbody>\n",
       "    <tr>\n",
       "      <th>0</th>\n",
       "      <td>F</td>\n",
       "      <td>62</td>\n",
       "      <td>JARDIM DA PENHA</td>\n",
       "      <td>0</td>\n",
       "      <td>1</td>\n",
       "      <td>0</td>\n",
       "      <td>0</td>\n",
       "      <td>0</td>\n",
       "      <td>0</td>\n",
       "      <td>yes</td>\n",
       "      <td>2016-04-29</td>\n",
       "      <td>2016-04-29</td>\n",
       "      <td>0</td>\n",
       "    </tr>\n",
       "    <tr>\n",
       "      <th>1</th>\n",
       "      <td>M</td>\n",
       "      <td>56</td>\n",
       "      <td>JARDIM DA PENHA</td>\n",
       "      <td>0</td>\n",
       "      <td>0</td>\n",
       "      <td>0</td>\n",
       "      <td>0</td>\n",
       "      <td>0</td>\n",
       "      <td>0</td>\n",
       "      <td>yes</td>\n",
       "      <td>2016-04-29</td>\n",
       "      <td>2016-04-29</td>\n",
       "      <td>0</td>\n",
       "    </tr>\n",
       "    <tr>\n",
       "      <th>2</th>\n",
       "      <td>F</td>\n",
       "      <td>62</td>\n",
       "      <td>MATA DA PRAIA</td>\n",
       "      <td>0</td>\n",
       "      <td>0</td>\n",
       "      <td>0</td>\n",
       "      <td>0</td>\n",
       "      <td>0</td>\n",
       "      <td>0</td>\n",
       "      <td>yes</td>\n",
       "      <td>2016-04-29</td>\n",
       "      <td>2016-04-29</td>\n",
       "      <td>0</td>\n",
       "    </tr>\n",
       "    <tr>\n",
       "      <th>3</th>\n",
       "      <td>F</td>\n",
       "      <td>8</td>\n",
       "      <td>PONTAL DE CAMBURI</td>\n",
       "      <td>0</td>\n",
       "      <td>0</td>\n",
       "      <td>0</td>\n",
       "      <td>0</td>\n",
       "      <td>0</td>\n",
       "      <td>0</td>\n",
       "      <td>yes</td>\n",
       "      <td>2016-04-29</td>\n",
       "      <td>2016-04-29</td>\n",
       "      <td>0</td>\n",
       "    </tr>\n",
       "    <tr>\n",
       "      <th>4</th>\n",
       "      <td>F</td>\n",
       "      <td>56</td>\n",
       "      <td>JARDIM DA PENHA</td>\n",
       "      <td>0</td>\n",
       "      <td>1</td>\n",
       "      <td>1</td>\n",
       "      <td>0</td>\n",
       "      <td>0</td>\n",
       "      <td>0</td>\n",
       "      <td>yes</td>\n",
       "      <td>2016-04-29</td>\n",
       "      <td>2016-04-29</td>\n",
       "      <td>0</td>\n",
       "    </tr>\n",
       "  </tbody>\n",
       "</table>\n",
       "</div>"
      ],
      "text/plain": [
       "  Gender  Age      Neighbourhood  Scholarship  Hipertension  Diabetes  \\\n",
       "0      F   62    JARDIM DA PENHA            0             1         0   \n",
       "1      M   56    JARDIM DA PENHA            0             0         0   \n",
       "2      F   62      MATA DA PRAIA            0             0         0   \n",
       "3      F    8  PONTAL DE CAMBURI            0             0         0   \n",
       "4      F   56    JARDIM DA PENHA            0             1         1   \n",
       "\n",
       "   Alcoholism  Handcap  SMS_received showing scheduled_date appointment_date  \\\n",
       "0           0        0             0     yes     2016-04-29       2016-04-29   \n",
       "1           0        0             0     yes     2016-04-29       2016-04-29   \n",
       "2           0        0             0     yes     2016-04-29       2016-04-29   \n",
       "3           0        0             0     yes     2016-04-29       2016-04-29   \n",
       "4           0        0             0     yes     2016-04-29       2016-04-29   \n",
       "\n",
       "   waiting_time  \n",
       "0             0  \n",
       "1             0  \n",
       "2             0  \n",
       "3             0  \n",
       "4             0  "
      ]
     },
     "execution_count": 23,
     "metadata": {},
     "output_type": "execute_result"
    }
   ],
   "source": [
    "df.head(5)"
   ]
  },
  {
   "cell_type": "markdown",
   "id": "0f69c16b",
   "metadata": {},
   "source": [
    "## Last step is to make all column names of lowercase characters"
   ]
  },
  {
   "cell_type": "code",
   "execution_count": 24,
   "id": "1d4566d9",
   "metadata": {},
   "outputs": [],
   "source": [
    "df.rename(columns = str.lower, inplace = True)"
   ]
  },
  {
   "cell_type": "code",
   "execution_count": 25,
   "id": "badcafd6",
   "metadata": {},
   "outputs": [
    {
     "data": {
      "text/html": [
       "<div>\n",
       "<style scoped>\n",
       "    .dataframe tbody tr th:only-of-type {\n",
       "        vertical-align: middle;\n",
       "    }\n",
       "\n",
       "    .dataframe tbody tr th {\n",
       "        vertical-align: top;\n",
       "    }\n",
       "\n",
       "    .dataframe thead th {\n",
       "        text-align: right;\n",
       "    }\n",
       "</style>\n",
       "<table border=\"1\" class=\"dataframe\">\n",
       "  <thead>\n",
       "    <tr style=\"text-align: right;\">\n",
       "      <th></th>\n",
       "      <th>gender</th>\n",
       "      <th>age</th>\n",
       "      <th>neighbourhood</th>\n",
       "      <th>scholarship</th>\n",
       "      <th>hipertension</th>\n",
       "      <th>diabetes</th>\n",
       "      <th>alcoholism</th>\n",
       "      <th>handcap</th>\n",
       "      <th>sms_received</th>\n",
       "      <th>showing</th>\n",
       "      <th>scheduled_date</th>\n",
       "      <th>appointment_date</th>\n",
       "      <th>waiting_time</th>\n",
       "    </tr>\n",
       "  </thead>\n",
       "  <tbody>\n",
       "    <tr>\n",
       "      <th>0</th>\n",
       "      <td>F</td>\n",
       "      <td>62</td>\n",
       "      <td>JARDIM DA PENHA</td>\n",
       "      <td>0</td>\n",
       "      <td>1</td>\n",
       "      <td>0</td>\n",
       "      <td>0</td>\n",
       "      <td>0</td>\n",
       "      <td>0</td>\n",
       "      <td>yes</td>\n",
       "      <td>2016-04-29</td>\n",
       "      <td>2016-04-29</td>\n",
       "      <td>0</td>\n",
       "    </tr>\n",
       "  </tbody>\n",
       "</table>\n",
       "</div>"
      ],
      "text/plain": [
       "  gender  age    neighbourhood  scholarship  hipertension  diabetes  \\\n",
       "0      F   62  JARDIM DA PENHA            0             1         0   \n",
       "\n",
       "   alcoholism  handcap  sms_received showing scheduled_date appointment_date  \\\n",
       "0           0        0             0     yes     2016-04-29       2016-04-29   \n",
       "\n",
       "   waiting_time  \n",
       "0             0  "
      ]
     },
     "execution_count": 25,
     "metadata": {},
     "output_type": "execute_result"
    }
   ],
   "source": [
    "df.head(1)"
   ]
  },
  {
   "cell_type": "markdown",
   "id": "32560ffb",
   "metadata": {},
   "source": [
    "<a id='eda'></a>\n",
    "## Exploratory Data Analysis\n"
   ]
  },
  {
   "cell_type": "code",
   "execution_count": null,
   "id": "2aac7459",
   "metadata": {},
   "outputs": [],
   "source": []
  },
  {
   "cell_type": "code",
   "execution_count": 26,
   "id": "43bd7b33",
   "metadata": {},
   "outputs": [
    {
     "data": {
      "image/png": "[encoded data removed]",
      "text/plain": [
       "<Figure size 720x576 with 9 Axes>"
      ]
     },
     "metadata": {
      "needs_background": "light"
     },
     "output_type": "display_data"
    }
   ],
   "source": [
    "#Let's have a quick look at the dataset\n",
    "df.hist(figsize = (10,8));"
   ]
  },
  {
   "cell_type": "code",
   "execution_count": 27,
   "id": "66c321f1",
   "metadata": {},
   "outputs": [],
   "source": [
    "#creating mask for rows where patients showed up\n",
    "show = df.showing == 'yes'"
   ]
  },
  {
   "cell_type": "code",
   "execution_count": 28,
   "id": "412eaf53",
   "metadata": {},
   "outputs": [],
   "source": [
    "#creating mask for rows where patients didn't show up\n",
    "noshow = df.showing == 'no'"
   ]
  },
  {
   "cell_type": "code",
   "execution_count": 29,
   "id": "9a1824b0",
   "metadata": {},
   "outputs": [
    {
     "data": {
      "text/plain": [
       "8.754659441320515"
      ]
     },
     "execution_count": 29,
     "metadata": {},
     "output_type": "execute_result"
    }
   ],
   "source": [
    "#waiting_time indicates the difference between appointment day and sheduled day\n",
    "df.waiting_time[show].mean()"
   ]
  },
  {
   "cell_type": "code",
   "execution_count": 30,
   "id": "87d93846",
   "metadata": {},
   "outputs": [
    {
     "data": {
      "text/plain": [
       "15.83148886598862"
      ]
     },
     "execution_count": 30,
     "metadata": {},
     "output_type": "execute_result"
    }
   ],
   "source": [
    "df.waiting_time[noshow].mean()"
   ]
  },
  {
   "cell_type": "markdown",
   "id": "4b49c5d8",
   "metadata": {},
   "source": [
    "### It is noticed that average waiting time is obviously higher in case of patients who didn't show up"
   ]
  },
  {
   "cell_type": "code",
   "execution_count": 31,
   "id": "da1c0fdf",
   "metadata": {},
   "outputs": [
    {
     "data": {
      "image/png": "[encoded data removed]",
      "text/plain": [
       "<Figure size 576x576 with 1 Axes>"
      ]
     },
     "metadata": {},
     "output_type": "display_data"
    }
   ],
   "source": [
    "#investigate waiting_time in showing-up patients\n",
    "df.query('showing == \"yes\"').waiting_time.value_counts().plot.pie(figsize = (8,8));\n",
    "\n"
   ]
  },
  {
   "cell_type": "markdown",
   "id": "7a13f1dd",
   "metadata": {},
   "source": [
    "### This illustrates that the greatest percentage of patients who showed up in their appointments those who got appointments on the same day  that they call to set up their appointments"
   ]
  },
  {
   "cell_type": "code",
   "execution_count": 32,
   "id": "d4f6f4ee",
   "metadata": {},
   "outputs": [
    {
     "data": {
      "image/png": "[encoded data removed]",
      "text/plain": [
       "<Figure size 576x576 with 1 Axes>"
      ]
     },
     "metadata": {},
     "output_type": "display_data"
    }
   ],
   "source": [
    "#investigating waiting time in case of patients who didn't show-up\n",
    "df.query('showing == \"no\"').waiting_time.value_counts().plot.pie(figsize = (8,8));"
   ]
  },
  {
   "cell_type": "markdown",
   "id": "82d65963",
   "metadata": {},
   "source": [
    "### By comparing  two previous plots, we find out that patients who got appointments on the same day that they call to set up their appointments are more likely to show up in their appointments"
   ]
  },
  {
   "cell_type": "code",
   "execution_count": 33,
   "id": "488362d3",
   "metadata": {},
   "outputs": [
    {
     "data": {
      "text/plain": [
       "37.790064393252315"
      ]
     },
     "execution_count": 33,
     "metadata": {},
     "output_type": "execute_result"
    }
   ],
   "source": [
    "df.age[show].mean()"
   ]
  },
  {
   "cell_type": "code",
   "execution_count": 34,
   "id": "42e11bc2",
   "metadata": {},
   "outputs": [
    {
     "data": {
      "text/plain": [
       "34.31766656212196"
      ]
     },
     "execution_count": 34,
     "metadata": {},
     "output_type": "execute_result"
    }
   ],
   "source": [
    "df.age[noshow].mean()"
   ]
  },
  {
   "cell_type": "markdown",
   "id": "75192873",
   "metadata": {},
   "source": [
    "### Average age of patients who showed up is greater than that average in patients who didn't show, but no remarkable difference."
   ]
  },
  {
   "cell_type": "code",
   "execution_count": 35,
   "id": "505bda8c",
   "metadata": {},
   "outputs": [
    {
     "data": {
      "image/png": "[encoded data removed]",
      "text/plain": [
       "<Figure size 432x288 with 1 Axes>"
      ]
     },
     "metadata": {
      "needs_background": "light"
     },
     "output_type": "display_data"
    }
   ],
   "source": [
    "df.age[show].hist(alpha= 0.8, label= 'show')\n",
    "df.age[noshow].hist(alpha = 0.8, label= 'no show')\n",
    "plt.legend();"
   ]
  },
  {
   "cell_type": "markdown",
   "id": "b0acab85",
   "metadata": {},
   "source": [
    "### It's obvious that propability of  children  to show up in their appointments is the highest."
   ]
  },
  {
   "cell_type": "markdown",
   "id": "4374f47e",
   "metadata": {},
   "source": [
    "### *******************************************************************************************************************************************************************************************************************************************************************"
   ]
  },
  {
   "cell_type": "markdown",
   "id": "4cbe65bf",
   "metadata": {},
   "source": [
    "### Now Are patients with chronic diseases and alcoholism more committed to their appointments?"
   ]
  },
  {
   "cell_type": "code",
   "execution_count": 36,
   "id": "260afeb3",
   "metadata": {},
   "outputs": [],
   "source": [
    "#Defining a function to be used multible times  to avoid repetitive code\n",
    "def barchart(x1,x2, y1, y2,title,xlabel,ylabel):\n",
    "    plt.bar([x1,x2],[y1,y2],color=['green','violet'])\n",
    "    plt.title(title)\n",
    "    plt.xlabel(xlabel)\n",
    "    plt.ylabel(ylabel); \n"
   ]
  },
  {
   "cell_type": "code",
   "execution_count": 37,
   "id": "55ee8b5c",
   "metadata": {},
   "outputs": [],
   "source": [
    "#alcoholism statistic in patients who showed up\n",
    "df_alc_show = df.query('showing == \"yes\"').alcoholism.value_counts()"
   ]
  },
  {
   "cell_type": "code",
   "execution_count": 38,
   "id": "fe733d8f",
   "metadata": {},
   "outputs": [],
   "source": [
    "#alcoholism statistic in patients who didn't show up\n",
    "df_alc_noshow = df.query('showing == \"no\"').alcoholism.value_counts()"
   ]
  },
  {
   "cell_type": "code",
   "execution_count": 39,
   "id": "e2fdccd8",
   "metadata": {},
   "outputs": [
    {
     "name": "stdout",
     "output_type": "stream",
     "text": [
      "None\n"
     ]
    },
    {
     "data": {
      "image/png": "[encoded data removed]",
      "text/plain": [
       "<Figure size 432x288 with 1 Axes>"
      ]
     },
     "metadata": {
      "needs_background": "light"
     },
     "output_type": "display_data"
    }
   ],
   "source": [
    "#comparison between alcoholic patients who showed up and who didn't\n",
    "print(barchart('show','noshow',df_alc_show[1],df_alc_noshow[1],'Effect of alcoholism on committment of patients','patient state','number of alcoholic patients'))            "
   ]
  },
  {
   "cell_type": "markdown",
   "id": "cf05398a",
   "metadata": {},
   "source": [
    "### It seems that alcoholic patients who showed-up are greater  than those who didn't, but this may be because total showing up patients are more, so let's further investigate that"
   ]
  },
  {
   "cell_type": "code",
   "execution_count": 40,
   "id": "f44d180f",
   "metadata": {},
   "outputs": [
    {
     "data": {
      "text/plain": [
       "88208"
      ]
     },
     "execution_count": 40,
     "metadata": {},
     "output_type": "execute_result"
    }
   ],
   "source": [
    "no_of_total_showing = df.showing.value_counts()['yes']\n",
    "no_of_total_showing"
   ]
  },
  {
   "cell_type": "code",
   "execution_count": 41,
   "id": "ee2354d2",
   "metadata": {},
   "outputs": [
    {
     "data": {
      "text/plain": [
       "22319"
      ]
     },
     "execution_count": 41,
     "metadata": {},
     "output_type": "execute_result"
    }
   ],
   "source": [
    "no_of_total_unshowing = df.showing.value_counts()['no']\n",
    "no_of_total_unshowing"
   ]
  },
  {
   "cell_type": "markdown",
   "id": "0f1c05a3",
   "metadata": {},
   "source": [
    "### because no of total showing-up patients are greater than those who didn't show-up, so we need to use ratios instead of value counts"
   ]
  },
  {
   "cell_type": "code",
   "execution_count": 42,
   "id": "66845acd",
   "metadata": {},
   "outputs": [
    {
     "name": "stdout",
     "output_type": "stream",
     "text": [
      "None\n"
     ]
    },
    {
     "data": {
      "image/png": "[encoded data removed]",
      "text/plain": [
       "<Figure size 432x288 with 1 Axes>"
      ]
     },
     "metadata": {
      "needs_background": "light"
     },
     "output_type": "display_data"
    }
   ],
   "source": [
    "#comparison between alcoholic patients who showed up and who didn't depending on ratio\n",
    "print(barchart('show','noshow',df_alc_show[1]/no_of_total_showing,df_alc_noshow[1]/no_of_total_unshowing,'Effect of alcoholism on committment of patients','patient state','ratio of alcoholic patients'))            "
   ]
  },
  {
   "cell_type": "markdown",
   "id": "cbb7c7ed",
   "metadata": {},
   "source": [
    "### Yes, It's obvious now that no remarkable difference between ratio of  alcoholic patients who showed-up and those who didn't "
   ]
  },
  {
   "cell_type": "code",
   "execution_count": 43,
   "id": "58a69b40",
   "metadata": {},
   "outputs": [],
   "source": [
    "df_show_diab = df.query('showing == \"yes\"').diabetes.value_counts()\n",
    "df_noshow_diab = df.query('showing == \"no\"').diabetes.value_counts()"
   ]
  },
  {
   "cell_type": "code",
   "execution_count": 44,
   "id": "f892c801",
   "metadata": {},
   "outputs": [
    {
     "name": "stdout",
     "output_type": "stream",
     "text": [
      "None\n"
     ]
    },
    {
     "data": {
      "image/png": "[encoded data removed]",
      "text/plain": [
       "<Figure size 432x288 with 1 Axes>"
      ]
     },
     "metadata": {
      "needs_background": "light"
     },
     "output_type": "display_data"
    }
   ],
   "source": [
    "#comparison between diapetic patients who showed up and who didn't\n",
    "print(barchart('show','noshow',df_show_diab[1]/no_of_total_showing,df_noshow_diab[1]/no_of_total_unshowing,'Effect of diabetes on committment of patients','patient state','ratio of diabetic patients'))            \n"
   ]
  },
  {
   "cell_type": "markdown",
   "id": "450b06ba",
   "metadata": {},
   "source": [
    "### It seemes that diabetic patients are more likely to show in their appointments"
   ]
  },
  {
   "cell_type": "code",
   "execution_count": 45,
   "id": "30f07d27",
   "metadata": {},
   "outputs": [],
   "source": [
    "df_show_hiper = df.query('showing == \"yes\"').hipertension.value_counts()\n",
    "df_noshow_hiper = df.query('showing == \"no\"').hipertension.value_counts()"
   ]
  },
  {
   "cell_type": "code",
   "execution_count": 46,
   "id": "5a218d0f",
   "metadata": {},
   "outputs": [
    {
     "name": "stdout",
     "output_type": "stream",
     "text": [
      "None\n"
     ]
    },
    {
     "data": {
      "image/png": "[encoded data removed]",
      "text/plain": [
       "<Figure size 432x288 with 1 Axes>"
      ]
     },
     "metadata": {
      "needs_background": "light"
     },
     "output_type": "display_data"
    }
   ],
   "source": [
    "#comparison between hypertensive patients who showed up and who didn't\n",
    "print(barchart('show','noshow',df_show_hiper[1]/no_of_total_showing,df_noshow_hiper[1]/no_of_total_unshowing,'Effect of hypertension on committment of patients','patient state','ratio of hypertensive patients'))            "
   ]
  },
  {
   "cell_type": "markdown",
   "id": "9cb96666",
   "metadata": {},
   "source": [
    "### It seemes that  hypertensve patients are more likely to show up in their appointments."
   ]
  },
  {
   "cell_type": "markdown",
   "id": "4ae04f65",
   "metadata": {},
   "source": [
    "### It's obvious now that people with chronic diseases  are the most likely to show in their medical appointments"
   ]
  },
  {
   "cell_type": "code",
   "execution_count": 47,
   "id": "e0dcc1c2",
   "metadata": {},
   "outputs": [],
   "source": [
    "df_show_sms = df.query('showing == \"yes\"').sms_received.value_counts()\n",
    "df_noshow_sms = df.query('showing == \"no\"').sms_received.value_counts()"
   ]
  },
  {
   "cell_type": "code",
   "execution_count": 48,
   "id": "5df6c1c5",
   "metadata": {},
   "outputs": [
    {
     "name": "stdout",
     "output_type": "stream",
     "text": [
      "None\n"
     ]
    },
    {
     "data": {
      "image/png": "[encoded data removed]",
      "text/plain": [
       "<Figure size 432x288 with 1 Axes>"
      ]
     },
     "metadata": {
      "needs_background": "light"
     },
     "output_type": "display_data"
    }
   ],
   "source": [
    "#comparison between showed up patients who  received sms and non showing up who received sms \n",
    "print(barchart('show','noshow',df_show_sms[1]/no_of_total_showing,df_noshow_sms[1]/no_of_total_unshowing,'Effect of receiving sms on committment of patients','patient state','ratio of patients who received sms'))            "
   ]
  },
  {
   "cell_type": "markdown",
   "id": "38dcca6d",
   "metadata": {},
   "source": [
    "### This plot shows that sending patients sms didn't help them to show up in their medical appointments"
   ]
  },
  {
   "cell_type": "code",
   "execution_count": 49,
   "id": "1d037eaa",
   "metadata": {},
   "outputs": [],
   "source": [
    "df_show_scholarship = df.query('showing == \"yes\"').scholarship.value_counts()\n",
    "df_noshow_scholarship = df.query('showing == \"no\"').scholarship.value_counts()"
   ]
  },
  {
   "cell_type": "code",
   "execution_count": 50,
   "id": "ceaab5d3",
   "metadata": {},
   "outputs": [
    {
     "name": "stdout",
     "output_type": "stream",
     "text": [
      "None\n"
     ]
    },
    {
     "data": {
      "image/png": "[encoded data removed]",
      "text/plain": [
       "<Figure size 432x288 with 1 Axes>"
      ]
     },
     "metadata": {
      "needs_background": "light"
     },
     "output_type": "display_data"
    }
   ],
   "source": [
    "#comparison between members of scholarship who show and who didn't\n",
    "print(barchart('show','no show',df_show_scholarship[1]/no_of_total_showing,df_noshow_scholarship[1]/no_of_total_unshowing,\"Effect of the scholarship on commitment of patients\",'scholarship state',\"Ratio of patients who are mambers in the scholarship\" ))            "
   ]
  },
  {
   "cell_type": "markdown",
   "id": "cd2351ec",
   "metadata": {},
   "source": [
    "### It seems that joining the Polsa Familia programe hasn't that strong impact in encouraging patients showing up in their appointments"
   ]
  },
  {
   "cell_type": "code",
   "execution_count": null,
   "id": "d953075a",
   "metadata": {},
   "outputs": [],
   "source": []
  },
  {
   "cell_type": "markdown",
   "id": "d8599d37",
   "metadata": {},
   "source": [
    "<a id='conclusions'></a>\n",
    "# Conclusions\n",
    ">**Results:**\n",
    ">\n",
    "> 1- possible reasons of  patients not showing in the specific appointment are Scheduling very late appointment dates, they may forget it or even their complaign has gone.\n",
    ">\n",
    "> 2- Chronic disease patients are the most likely to come on their specific appointments.\n",
    ">\n",
    "> 3- Patients joining 'PolsaFamilia' aren't that interested in commitment in their appointments. also sending patients sms didn't have much impact\n",
    ">\n",
    "> 4- factors and recommendations that help patients show up in their medical appointment are; decreasing waiting time as possible\n",
    ">\n",
    ">**Limitations:**\n",
    ">\n",
    "> 1- Most of variables are boolean(i.e categorical), so doesn't help so much in high level of statistical methods that can be used to find correlations.\n",
    ">\n",
    "> 2- All statistics are descriptive not inferential, meaning that there is no controlled experiments.\n",
    ">\n",
    "> 3- Lack of some details like content of sms and time of sending. \n"
   ]
  },
  {
   "cell_type": "code",
   "execution_count": null,
   "id": "fb10c0ca",
   "metadata": {},
   "outputs": [],
   "source": []
  }
 ],
 "metadata": {
  "kernelspec": {
   "display_name": "Python 3 (ipykernel)",
   "language": "python",
   "name": "python3"
  },
  "language_info": {
   "codemirror_mode": {
    "name": "ipython",
    "version": 3
   },
   "file_extension": ".py",
   "mimetype": "text/x-python",
   "name": "python",
   "nbconvert_exporter": "python",
   "pygments_lexer": "ipython3",
   "version": "3.9.7"
  }
 },
 "nbformat": 4,
 "nbformat_minor": 5
}
